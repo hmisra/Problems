{
 "cells": [
  {
   "cell_type": "markdown",
   "metadata": {},
   "source": [
    "## Trees"
   ]
  },
  {
   "cell_type": "markdown",
   "metadata": {},
   "source": [
    "## Traversal\n",
    "\n",
    "#### BFS or Level Order Traversal"
   ]
  },
  {
   "cell_type": "code",
   "execution_count": 1,
   "metadata": {
    "collapsed": true
   },
   "outputs": [],
   "source": [
    "\n",
    "\n",
    "\n",
    "class Queue:\n",
    "    def __init__(self):\n",
    "        self.queue = []\n",
    "    def is_empty(self):\n",
    "        return len(self.queue) == 0\n",
    "    def total_elements(self):\n",
    "        return len(self.queue)\n",
    "    def push(self, x, level):\n",
    "        self.queue.insert(0,(x, level))\n",
    "    def pop(self):\n",
    "        return self.queue.pop()\n",
    "class Solution(object):\n",
    "    def minDepth(self, root):\n",
    "        if root == None:\n",
    "            return 0\n",
    "        queue = Queue()\n",
    "        queue.push(root, 1)\n",
    "        while not queue.is_empty() :\n",
    "            parent, level = queue.pop()\n",
    "            if parent.left != None:\n",
    "                queue.push(parent.left, level+1)\n",
    "            if parent.right != None:\n",
    "                queue.push(parent.right, level+1)\n",
    "        "
   ]
  },
  {
   "cell_type": "code",
   "execution_count": 33,
   "metadata": {
    "collapsed": false
   },
   "outputs": [
    {
     "name": "stdout",
     "output_type": "stream",
     "text": [
      "[1]\n",
      "[2, 3]\n",
      "[4, 5, None, None]\n",
      "[2, 3, None, 4, None, None, None, None]\n",
      "[None, 19]\n"
     ]
    }
   ],
   "source": [
    "from math import *\n",
    "input_tree = [1,2,3,4,5,None, None, 2,3,None, 4, None, None, None, None, None, 19]\n",
    "class TreeNode(object):\n",
    "    def __init__(self, x):\n",
    "        self.val = x\n",
    "        self.left = None\n",
    "        self.right = None\n",
    "def create_tree(input_tree):\n",
    "    if len(input_tree)==0:\n",
    "        return None\n",
    "    levels = int(ceil(log(len(input_tree),2)))\n",
    "    \n",
    "    for level in range(1, levels+1):\n",
    "        print(input_tree[int(pow(2,max(0, level-1))-1): int(pow(2,max(0, level))-1)])\n",
    "        \n",
    "create_tree(input_tree)"
   ]
  },
  {
   "cell_type": "code",
   "execution_count": 6,
   "metadata": {
    "collapsed": false
   },
   "outputs": [
    {
     "name": "stdout",
     "output_type": "stream",
     "text": [
      "[4, 5]\n"
     ]
    }
   ],
   "source": [
    "\n"
   ]
  },
  {
   "cell_type": "code",
   "execution_count": null,
   "metadata": {
    "collapsed": true
   },
   "outputs": [],
   "source": []
  }
 ],
 "metadata": {
  "kernelspec": {
   "display_name": "Python 3",
   "language": "python",
   "name": "python3"
  },
  "language_info": {
   "codemirror_mode": {
    "name": "ipython",
    "version": 3
   },
   "file_extension": ".py",
   "mimetype": "text/x-python",
   "name": "python",
   "nbconvert_exporter": "python",
   "pygments_lexer": "ipython3",
   "version": "3.6.0"
  }
 },
 "nbformat": 4,
 "nbformat_minor": 2
}
